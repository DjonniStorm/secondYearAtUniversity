{
 "cells": [
  {
   "cell_type": "code",
   "execution_count": 48,
   "metadata": {},
   "outputs": [
    {
     "name": "stdout",
     "output_type": "stream",
     "text": [
      "Requirement already satisfied: pandas in .\\.venv\\lib\\site-packages (2.2.3)\n",
      "Requirement already satisfied: scikit-learn in .\\.venv\\lib\\site-packages (1.5.2)\n",
      "Requirement already satisfied: numpy in .\\.venv\\lib\\site-packages (2.1.3)\n",
      "Requirement already satisfied: matplotlib in .\\.venv\\lib\\site-packages (3.9.2)\n",
      "Requirement already satisfied: python-dateutil>=2.8.2 in .\\.venv\\lib\\site-packages (from pandas) (2.9.0.post0)\n",
      "Requirement already satisfied: pytz>=2020.1 in .\\.venv\\lib\\site-packages (from pandas) (2024.2)\n",
      "Requirement already satisfied: tzdata>=2022.7 in .\\.venv\\lib\\site-packages (from pandas) (2024.2)\n",
      "Requirement already satisfied: scipy>=1.6.0 in .\\.venv\\lib\\site-packages (from scikit-learn) (1.14.1)\n",
      "Requirement already satisfied: joblib>=1.2.0 in .\\.venv\\lib\\site-packages (from scikit-learn) (1.4.2)\n",
      "Requirement already satisfied: threadpoolctl>=3.1.0 in .\\.venv\\lib\\site-packages (from scikit-learn) (3.5.0)\n",
      "Requirement already satisfied: contourpy>=1.0.1 in .\\.venv\\lib\\site-packages (from matplotlib) (1.3.0)\n",
      "Requirement already satisfied: cycler>=0.10 in .\\.venv\\lib\\site-packages (from matplotlib) (0.12.1)\n",
      "Requirement already satisfied: fonttools>=4.22.0 in .\\.venv\\lib\\site-packages (from matplotlib) (4.54.1)\n",
      "Requirement already satisfied: kiwisolver>=1.3.1 in .\\.venv\\lib\\site-packages (from matplotlib) (1.4.7)\n",
      "Requirement already satisfied: packaging>=20.0 in .\\.venv\\lib\\site-packages (from matplotlib) (24.2)\n",
      "Requirement already satisfied: pillow>=8 in .\\.venv\\lib\\site-packages (from matplotlib) (11.0.0)\n",
      "Requirement already satisfied: pyparsing>=2.3.1 in .\\.venv\\lib\\site-packages (from matplotlib) (3.2.0)\n",
      "Requirement already satisfied: six>=1.5 in .\\.venv\\lib\\site-packages (from python-dateutil>=2.8.2->pandas) (1.16.0)\n",
      "Note: you may need to restart the kernel to use updated packages.\n"
     ]
    }
   ],
   "source": [
    "%pip install pandas scikit-learn numpy matplotlib"
   ]
  },
  {
   "cell_type": "code",
   "execution_count": 1,
   "metadata": {
    "execution": {
     "iopub.execute_input": "2024-11-01T17:38:08.804606Z",
     "iopub.status.busy": "2024-11-01T17:38:08.804181Z",
     "iopub.status.idle": "2024-11-01T17:38:08.810009Z",
     "shell.execute_reply": "2024-11-01T17:38:08.808860Z",
     "shell.execute_reply.started": "2024-11-01T17:38:08.804565Z"
    },
    "trusted": true
   },
   "outputs": [],
   "source": [
    "import pandas as pd\n",
    "import random\n",
    "from sklearn.neighbors import BallTree\n",
    "import numpy as np\n",
    "import matplotlib.pyplot as plt"
   ]
  },
  {
   "cell_type": "code",
   "execution_count": 3,
   "metadata": {
    "execution": {
     "iopub.execute_input": "2024-11-01T17:14:12.240897Z",
     "iopub.status.busy": "2024-11-01T17:14:12.240124Z",
     "iopub.status.idle": "2024-11-01T17:14:12.246962Z",
     "shell.execute_reply": "2024-11-01T17:14:12.245435Z",
     "shell.execute_reply.started": "2024-11-01T17:14:12.240840Z"
    },
    "trusted": true
   },
   "outputs": [],
   "source": [
    "# Константы\n",
    "BS_TYPE_1_RADIUS = 1.0  # Радиус для БС типа 1 (км)\n",
    "BS_TYPE_2_RADIUS = 2.0  # Радиус для БС типа 2 (км)\n",
    "BS_TYPE_1_MAX_DEVICES = 2000\n",
    "BS_TYPE_2_MAX_DEVICES = 10000\n",
    "BS_TYPE_1_COST = 50000\n",
    "BS_TYPE_2_COST = 180000"
   ]
  },
  {
   "cell_type": "code",
   "execution_count": 4,
   "metadata": {
    "execution": {
     "iopub.execute_input": "2024-11-01T17:14:12.248719Z",
     "iopub.status.busy": "2024-11-01T17:14:12.248337Z",
     "iopub.status.idle": "2024-11-01T17:14:12.282332Z",
     "shell.execute_reply": "2024-11-01T17:14:12.280986Z",
     "shell.execute_reply.started": "2024-11-01T17:14:12.248679Z"
    },
    "trusted": true
   },
   "outputs": [
    {
     "data": {
      "text/html": [
       "<div>\n",
       "<style scoped>\n",
       "    .dataframe tbody tr th:only-of-type {\n",
       "        vertical-align: middle;\n",
       "    }\n",
       "\n",
       "    .dataframe tbody tr th {\n",
       "        vertical-align: top;\n",
       "    }\n",
       "\n",
       "    .dataframe thead th {\n",
       "        text-align: right;\n",
       "    }\n",
       "</style>\n",
       "<table border=\"1\" class=\"dataframe\">\n",
       "  <thead>\n",
       "    <tr style=\"text-align: right;\">\n",
       "      <th></th>\n",
       "      <th>house_uuid</th>\n",
       "      <th>latitude</th>\n",
       "      <th>longitude</th>\n",
       "      <th>end_devices_count</th>\n",
       "    </tr>\n",
       "  </thead>\n",
       "  <tbody>\n",
       "    <tr>\n",
       "      <th>0</th>\n",
       "      <td>b885de0f-09df-441f-85a6-bb28b468cea2</td>\n",
       "      <td>54.280637</td>\n",
       "      <td>48.310075</td>\n",
       "      <td>60</td>\n",
       "    </tr>\n",
       "    <tr>\n",
       "      <th>1</th>\n",
       "      <td>ac845abb-39e4-4b59-b1ca-d01a6b883b6a</td>\n",
       "      <td>54.327441</td>\n",
       "      <td>48.388516</td>\n",
       "      <td>35</td>\n",
       "    </tr>\n",
       "    <tr>\n",
       "      <th>2</th>\n",
       "      <td>fcbdc6c9-8c50-4a9d-9f2a-3da4f0d8432b</td>\n",
       "      <td>54.333380</td>\n",
       "      <td>48.491670</td>\n",
       "      <td>38</td>\n",
       "    </tr>\n",
       "    <tr>\n",
       "      <th>3</th>\n",
       "      <td>837ff3e3-6b90-459b-926d-230dcf8a7169</td>\n",
       "      <td>53.650325</td>\n",
       "      <td>47.114310</td>\n",
       "      <td>22</td>\n",
       "    </tr>\n",
       "    <tr>\n",
       "      <th>4</th>\n",
       "      <td>00588c27-989b-4d05-bf28-872c37831c9f</td>\n",
       "      <td>54.273530</td>\n",
       "      <td>48.286130</td>\n",
       "      <td>101</td>\n",
       "    </tr>\n",
       "    <tr>\n",
       "      <th>...</th>\n",
       "      <td>...</td>\n",
       "      <td>...</td>\n",
       "      <td>...</td>\n",
       "      <td>...</td>\n",
       "    </tr>\n",
       "    <tr>\n",
       "      <th>5750</th>\n",
       "      <td>c4e0ce30-df67-49e3-a9ab-b54264293bf7</td>\n",
       "      <td>54.226301</td>\n",
       "      <td>48.093087</td>\n",
       "      <td>24</td>\n",
       "    </tr>\n",
       "    <tr>\n",
       "      <th>5751</th>\n",
       "      <td>7992d45d-2e74-4f4b-b7c0-85ce5a7d8056</td>\n",
       "      <td>54.277110</td>\n",
       "      <td>48.282410</td>\n",
       "      <td>66</td>\n",
       "    </tr>\n",
       "    <tr>\n",
       "      <th>5752</th>\n",
       "      <td>41924162-917f-45c4-b2dd-2c2e5069cfce</td>\n",
       "      <td>54.327908</td>\n",
       "      <td>48.486855</td>\n",
       "      <td>180</td>\n",
       "    </tr>\n",
       "    <tr>\n",
       "      <th>5753</th>\n",
       "      <td>8b62ab41-dc72-4bfe-aa2f-6f564d7e0b07</td>\n",
       "      <td>54.275023</td>\n",
       "      <td>48.331051</td>\n",
       "      <td>12</td>\n",
       "    </tr>\n",
       "    <tr>\n",
       "      <th>5754</th>\n",
       "      <td>2c4ba761-efb9-4401-84e3-d87ae6b46cf0</td>\n",
       "      <td>54.423633</td>\n",
       "      <td>48.171412</td>\n",
       "      <td>16</td>\n",
       "    </tr>\n",
       "  </tbody>\n",
       "</table>\n",
       "<p>5755 rows × 4 columns</p>\n",
       "</div>"
      ],
      "text/plain": [
       "                                house_uuid   latitude  longitude  \\\n",
       "0     b885de0f-09df-441f-85a6-bb28b468cea2  54.280637  48.310075   \n",
       "1     ac845abb-39e4-4b59-b1ca-d01a6b883b6a  54.327441  48.388516   \n",
       "2     fcbdc6c9-8c50-4a9d-9f2a-3da4f0d8432b  54.333380  48.491670   \n",
       "3     837ff3e3-6b90-459b-926d-230dcf8a7169  53.650325  47.114310   \n",
       "4     00588c27-989b-4d05-bf28-872c37831c9f  54.273530  48.286130   \n",
       "...                                    ...        ...        ...   \n",
       "5750  c4e0ce30-df67-49e3-a9ab-b54264293bf7  54.226301  48.093087   \n",
       "5751  7992d45d-2e74-4f4b-b7c0-85ce5a7d8056  54.277110  48.282410   \n",
       "5752  41924162-917f-45c4-b2dd-2c2e5069cfce  54.327908  48.486855   \n",
       "5753  8b62ab41-dc72-4bfe-aa2f-6f564d7e0b07  54.275023  48.331051   \n",
       "5754  2c4ba761-efb9-4401-84e3-d87ae6b46cf0  54.423633  48.171412   \n",
       "\n",
       "      end_devices_count  \n",
       "0                    60  \n",
       "1                    35  \n",
       "2                    38  \n",
       "3                    22  \n",
       "4                   101  \n",
       "...                 ...  \n",
       "5750                 24  \n",
       "5751                 66  \n",
       "5752                180  \n",
       "5753                 12  \n",
       "5754                 16  \n",
       "\n",
       "[5755 rows x 4 columns]"
      ]
     },
     "execution_count": 4,
     "metadata": {},
     "output_type": "execute_result"
    }
   ],
   "source": [
    "# Загрузка данных\n",
    "houses_data = pd.read_csv('./task.csv', delimiter=';')\n",
    "houses_data"
   ]
  },
  {
   "cell_type": "code",
   "execution_count": 5,
   "metadata": {
    "execution": {
     "iopub.execute_input": "2024-11-01T17:14:12.284245Z",
     "iopub.status.busy": "2024-11-01T17:14:12.283821Z",
     "iopub.status.idle": "2024-11-01T17:14:12.297163Z",
     "shell.execute_reply": "2024-11-01T17:14:12.295684Z",
     "shell.execute_reply.started": "2024-11-01T17:14:12.284203Z"
    },
    "trusted": true
   },
   "outputs": [],
   "source": [
    "# Перевод широты и долготы домов в радианы для использования с BallTree\n",
    "stations = np.deg2rad(houses_data[['latitude', 'longitude']])\n",
    "tree = BallTree(stations, metric='haversine')  # Используем haversine расстояние"
   ]
  },
  {
   "cell_type": "code",
   "execution_count": 6,
   "metadata": {
    "execution": {
     "iopub.execute_input": "2024-11-01T17:14:12.300223Z",
     "iopub.status.busy": "2024-11-01T17:14:12.299817Z",
     "iopub.status.idle": "2024-11-01T17:14:12.306295Z",
     "shell.execute_reply": "2024-11-01T17:14:12.305132Z",
     "shell.execute_reply.started": "2024-11-01T17:14:12.300180Z"
    },
    "trusted": true
   },
   "outputs": [],
   "source": [
    "# Радиусы в радианах\n",
    "BS_TYPE_1_RADIUS_RAD = BS_TYPE_1_RADIUS / 6371.0  # 6371 км - радиус Земли\n",
    "BS_TYPE_2_RADIUS_RAD = BS_TYPE_2_RADIUS / 6371.0"
   ]
  },
  {
   "cell_type": "code",
   "execution_count": 28,
   "metadata": {
    "execution": {
     "iopub.execute_input": "2024-11-01T18:03:39.540585Z",
     "iopub.status.busy": "2024-11-01T18:03:39.540042Z",
     "iopub.status.idle": "2024-11-01T18:03:39.560109Z",
     "shell.execute_reply": "2024-11-01T18:03:39.558899Z",
     "shell.execute_reply.started": "2024-11-01T18:03:39.540533Z"
    },
    "trusted": true
   },
   "outputs": [],
   "source": [
    "# Функция для поиска домов, попадающих в радиус станции\n",
    "def get_coverage_indices(lat, lon, tree, radius_rad):\n",
    "    point = np.deg2rad([[lat, lon]])\n",
    "    # print('point', point)\n",
    "    indices = tree.query_radius(point, r=radius_rad)[0]\n",
    "    # print('houses_data', indices[0])\n",
    "    return indices\n",
    "\n",
    "# Жадный алгоритм выбора станций\n",
    "def greedy_station_placement(houses_data, tree):\n",
    "    remaining_houses = set(houses_data.index)  # Дома, которые нужно покрыть\n",
    "    placed_stations = []  # Список установленных станций (индекс дома, тип станции)\n",
    "    old_remaining_houses = 0\n",
    "    cnt_diff_remaining_houses = 0\n",
    "    while remaining_houses:\n",
    "        # print(len(remaining_houses), old_remaining_houses)\n",
    "        best_station = None\n",
    "        best_coverage = set()\n",
    "        best_type = None\n",
    "        best_cost = float('inf')\n",
    "        if old_remaining_houses == len(remaining_houses):\n",
    "            cnt_diff_remaining_houses += 1\n",
    "        old_remaining_houses = len(remaining_houses)\n",
    "        # Проверяем возможность установки каждой станции (типы 1 и 2)\n",
    "        for idx, house in houses_data.loc[houses_data.index[list(random.sample(list(remaining_houses), min(10, len(remaining_houses))))]].iterrows():\n",
    "            if idx not in remaining_houses:\n",
    "                continue\n",
    "            \n",
    "            lat, lon = house['latitude'], house['longitude']\n",
    "\n",
    "            # Покрытие станцией типа 1\n",
    "            coverage_indices_1 = get_coverage_indices(lat, lon, tree, BS_TYPE_1_RADIUS_RAD)\n",
    "            coverage_1 = set(coverage_indices_1) & remaining_houses\n",
    "            total_devices_1 = houses_data.loc[list(coverage_1), 'end_devices_count'].sum()\n",
    "            \n",
    "            if total_devices_1 <= BS_TYPE_1_MAX_DEVICES and BS_TYPE_1_COST < best_cost:\n",
    "                best_station = idx\n",
    "                best_coverage = coverage_1\n",
    "                best_type = 1\n",
    "                best_cost = BS_TYPE_1_COST\n",
    "\n",
    "            # Покрытие станцией типа 2\n",
    "            coverage_indices_2 = get_coverage_indices(lat, lon, tree, BS_TYPE_2_RADIUS_RAD)\n",
    "            coverage_2 = set(coverage_indices_2) & remaining_houses\n",
    "            total_devices_2 = houses_data.loc[list(coverage_2), 'end_devices_count'].sum()\n",
    "            \n",
    "            if total_devices_2 <= BS_TYPE_2_MAX_DEVICES and BS_TYPE_2_COST < best_cost:\n",
    "                best_station = idx\n",
    "                best_coverage = coverage_2\n",
    "                best_type = 2\n",
    "                best_cost = BS_TYPE_2_COST\n",
    "        if cnt_diff_remaining_houses > 2:\n",
    "            cnt_diff_remaining_houses = 0\n",
    "            pre_best = random.choice(list(remaining_houses))\n",
    "            placed_stations.append((houses_data.iloc[pre_best]['house_uuid'], random.randint(1, 2)))\n",
    "            remaining_houses -= set(random.sample(list(remaining_houses), min(random.randint(10, 50), len(remaining_houses)))) & remaining_houses\n",
    "            continue\n",
    "\n",
    "        # Размещаем лучшую станцию\n",
    "        if best_station is not None:\n",
    "            placed_stations.append((houses_data.iloc[best_station]['house_uuid'], best_type))\n",
    "            remaining_houses -= best_coverage\n",
    "            \n",
    "    return placed_stations"
   ]
  },
  {
   "cell_type": "code",
   "execution_count": 29,
   "metadata": {
    "execution": {
     "iopub.execute_input": "2024-11-01T18:05:55.192392Z",
     "iopub.status.busy": "2024-11-01T18:05:55.191944Z",
     "iopub.status.idle": "2024-11-01T18:06:02.229170Z",
     "shell.execute_reply": "2024-11-01T18:06:02.228016Z",
     "shell.execute_reply.started": "2024-11-01T18:05:55.192350Z"
    },
    "trusted": true
   },
   "outputs": [],
   "source": [
    "# Запуск алгоритма\n",
    "placed_stations = greedy_station_placement(houses_data, tree)"
   ]
  },
  {
   "cell_type": "code",
   "execution_count": 9,
   "metadata": {
    "execution": {
     "iopub.execute_input": "2024-11-01T18:06:08.533056Z",
     "iopub.status.busy": "2024-11-01T18:06:08.532330Z",
     "iopub.status.idle": "2024-11-01T18:06:08.543323Z",
     "shell.execute_reply": "2024-11-01T18:06:08.541851Z",
     "shell.execute_reply.started": "2024-11-01T18:06:08.532999Z"
    },
    "trusted": true
   },
   "outputs": [],
   "source": [
    "# Запись результатов в CSV\n",
    "result_df = pd.DataFrame(placed_stations, columns=['house_uuid', 'type'])\n",
    "result_df.to_csv('result.csv', index=False, sep=';')"
   ]
  },
  {
   "cell_type": "code",
   "execution_count": null,
   "metadata": {},
   "outputs": [
    {
     "data": {
      "text/plain": [
       "house_uuid    48\n",
       "type          48\n",
       "dtype: int64"
      ]
     },
     "execution_count": 25,
     "metadata": {},
     "output_type": "execute_result"
    }
   ],
   "source": [
    "# result_df['type'].count()\n",
    "# result_df[(result_df['type'] == 2)].count()"
   ]
  },
  {
   "cell_type": "code",
   "execution_count": 30,
   "metadata": {},
   "outputs": [
    {
     "data": {
      "image/png": "[encoded data removed]",
      "text/plain": [
       "<Figure size 1200x800 with 1 Axes>"
      ]
     },
     "metadata": {},
     "output_type": "display_data"
    }
   ],
   "source": [
    "# Загрузка результата решения\n",
    "result_df = pd.read_csv(\"./result.csv\", sep=';')\n",
    "\n",
    "# Чтение координат всех домов\n",
    "houses_df = pd.read_csv(\"./task.csv\", sep=';')\n",
    "houses_df.dropna(inplace=True)\n",
    "\n",
    "# Объединение данных о станциях с координатами домов\n",
    "merged_df = result_df.merge(houses_df, how=\"left\", left_on=\"house_uuid\", right_on=\"house_uuid\")\n",
    "\n",
    "# Создание графика\n",
    "fig, ax = plt.subplots(figsize=(12, 8))\n",
    "\n",
    "\n",
    "\n",
    "# Отображение базовых станций\n",
    "bs_1 = merged_df.query(\"type == 1\")\n",
    "bs_2 = merged_df.query(\"type == 2\")\n",
    "\n",
    "ax.scatter(bs_1[\"longitude\"], bs_1[\"latitude\"], marker='o', color='blue', label='Базовая станция типа 1')\n",
    "ax.scatter(bs_2[\"longitude\"], bs_2[\"latitude\"], marker='x', color='red', label='Базовая станция типа 2')\n",
    "# Отображение всех домов\n",
    "ax.scatter(merged_df[\"longitude\"], merged_df[\"latitude\"], marker='*', color='green', label='Дома')\n",
    "\n",
    "# Настройка легенды и заголовка\n",
    "plt.legend(loc='upper left')\n",
    "plt.title(\"Расположение базовых станций\")\n",
    "\n",
    "# Показать график\n",
    "plt.show()"
   ]
  }
 ],
 "metadata": {
  "kaggle": {
   "accelerator": "none",
   "dataSources": [
    {
     "datasetId": 5993134,
     "sourceId": 9782368,
     "sourceType": "datasetVersion"
    }
   ],
   "dockerImageVersionId": 30786,
   "isGpuEnabled": false,
   "isInternetEnabled": false,
   "language": "python",
   "sourceType": "notebook"
  },
  "kernelspec": {
   "display_name": ".venv",
   "language": "python",
   "name": "python3"
  },
  "language_info": {
   "codemirror_mode": {
    "name": "ipython",
    "version": 3
   },
   "file_extension": ".py",
   "mimetype": "text/x-python",
   "name": "python",
   "nbconvert_exporter": "python",
   "pygments_lexer": "ipython3",
   "version": "3.12.5"
  }
 },
 "nbformat": 4,
 "nbformat_minor": 4
}
